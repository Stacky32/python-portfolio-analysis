{
 "cells": [
  {
   "cell_type": "code",
   "execution_count": null,
   "metadata": {},
   "outputs": [
    {
     "data": {
      "text/plain": [
       "0.6666666666666666"
      ]
     },
     "metadata": {},
     "output_type": "display_data"
    },
    {
     "data": {
      "text/plain": [
       "5.616709354561156e-16"
      ]
     },
     "metadata": {},
     "output_type": "display_data"
    },
    {
     "data": {
      "text/plain": [
       "2.3504023872876028"
      ]
     },
     "metadata": {},
     "output_type": "display_data"
    }
   ],
   "source": [
    "import QuantLib as ql\n",
    "import numpy as np\n",
    "\n",
    "f = lambda x: x**2\n",
    "g = lambda x: x**3\n",
    "h = lambda x: np.exp(x)\n",
    "\n",
    "integrator = ql.GaussLegendreIntegration(128)\n",
    "display(integrator(f))\n",
    "display(integrator(g))\n",
    "display(integrator(h))"
   ]
  },
  {
   "cell_type": "markdown",
   "metadata": {},
   "source": [
    "QuantLib Gaussian quadrature evaluates the integral over the interval [-1, 1]. Create a wrapper to allow specifying arbitrary limits."
   ]
  },
  {
   "cell_type": "code",
   "execution_count": 4,
   "metadata": {},
   "outputs": [],
   "source": [
    "def integrate(f, a, b, quad):\n",
    "    shift = (a+b)/2\n",
    "    scale = (b-a)/2\n",
    "    t = lambda x: f(scale*x + shift)\n",
    "    return quad(t) * scale"
   ]
  },
  {
   "cell_type": "code",
   "execution_count": 8,
   "metadata": {},
   "outputs": [
    {
     "data": {
      "text/plain": [
       "'QuantLib: 0.3333333333333335'"
      ]
     },
     "metadata": {},
     "output_type": "display_data"
    },
    {
     "data": {
      "text/plain": [
       "'SciPy:    0.33333333333333337'"
      ]
     },
     "metadata": {},
     "output_type": "display_data"
    },
    {
     "data": {
      "text/plain": [
       "'QuantLib: 0.2500000000000001'"
      ]
     },
     "metadata": {},
     "output_type": "display_data"
    },
    {
     "data": {
      "text/plain": [
       "'SciPy:    0.25'"
      ]
     },
     "metadata": {},
     "output_type": "display_data"
    },
    {
     "data": {
      "text/plain": [
       "'QuantLib: 1.7182818284590449'"
      ]
     },
     "metadata": {},
     "output_type": "display_data"
    },
    {
     "data": {
      "text/plain": [
       "'SciPy:    1.718281828459045'"
      ]
     },
     "metadata": {},
     "output_type": "display_data"
    }
   ],
   "source": [
    "from scipy.integrate import quad\n",
    "\n",
    "def compare(f, a, b):\n",
    "    display(f\"QuantLib: {integrate(f,a,b,integrator)}\")\n",
    "    display(f\"SciPy:    {quad(f,a,b)[0]}\")\n",
    "\n",
    "compare(f,0,1)\n",
    "compare(g,0,1)\n",
    "compare(h,0,1)"
   ]
  },
  {
   "cell_type": "code",
   "execution_count": 12,
   "metadata": {},
   "outputs": [
    {
     "data": {
      "text/plain": [
       "<QuantLib.QuantLib.GeometricBrownianMotionProcess; proxy of <Swig Object of type 'ext::shared_ptr< GeometricBrownianMotionProcess > *' at 0x769419607a20> >"
      ]
     },
     "execution_count": 12,
     "metadata": {},
     "output_type": "execute_result"
    }
   ],
   "source": [
    "initialValue = 100\n",
    "mu = 0.01\n",
    "sigma = 0.2\n",
    "process = ql.GeometricBrownianMotionProcess(initialValue, mu, sigma)\n",
    "process"
   ]
  },
  {
   "cell_type": "code",
   "execution_count": null,
   "metadata": {},
   "outputs": [
    {
     "data": {
      "text/plain": [
       "100.0"
      ]
     },
     "execution_count": 14,
     "metadata": {},
     "output_type": "execute_result"
    }
   ],
   "source": [
    "display(f\"Initial value {process.x0()}\")"
   ]
  }
 ],
 "metadata": {
  "kernelspec": {
   "display_name": ".venv (3.12.3)",
   "language": "python",
   "name": "python3"
  },
  "language_info": {
   "codemirror_mode": {
    "name": "ipython",
    "version": 3
   },
   "file_extension": ".py",
   "mimetype": "text/x-python",
   "name": "python",
   "nbconvert_exporter": "python",
   "pygments_lexer": "ipython3",
   "version": "3.12.3"
  }
 },
 "nbformat": 4,
 "nbformat_minor": 2
}
